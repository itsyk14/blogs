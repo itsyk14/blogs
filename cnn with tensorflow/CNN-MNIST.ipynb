{
 "cells": [
  {
   "cell_type": "code",
   "execution_count": 18,
   "metadata": {},
   "outputs": [],
   "source": [
    "import tensorflow as tf"
   ]
  },
  {
   "cell_type": "code",
   "execution_count": 19,
   "metadata": {
    "scrolled": true
   },
   "outputs": [
    {
     "name": "stdout",
     "output_type": "stream",
     "text": [
      "Extracting MNIST_data/train-images-idx3-ubyte.gz\n",
      "Extracting MNIST_data/train-labels-idx1-ubyte.gz\n",
      "Extracting MNIST_data/t10k-images-idx3-ubyte.gz\n",
      "Extracting MNIST_data/t10k-labels-idx1-ubyte.gz\n"
     ]
    }
   ],
   "source": [
    "from tensorflow.examples.tutorials.mnist import input_data\n",
    "mnist = input_data.read_data_sets(\"MNIST_data/\", one_hot = True)\n",
    "#mnist contains images dataset with each image dataset labelled from 0 to 9"
   ]
  },
  {
   "cell_type": "code",
   "execution_count": 3,
   "metadata": {},
   "outputs": [
    {
     "name": "stdout",
     "output_type": "stream",
     "text": [
      "Training-set shape is : \n",
      "(55000, 784) (55000, 10)\n"
     ]
    }
   ],
   "source": [
    "print(\"Training-set shape is : \")\n",
    "print(mnist.train.images.shape, mnist.train.labels.shape)"
   ]
  },
  {
   "cell_type": "code",
   "execution_count": 4,
   "metadata": {},
   "outputs": [
    {
     "name": "stdout",
     "output_type": "stream",
     "text": [
      "Test-set shape is : \n",
      "(10000, 784) (10000, 10)\n"
     ]
    }
   ],
   "source": [
    "print(\"Test-set shape is : \")\n",
    "print(mnist.test.images.shape, mnist.test.labels.shape)"
   ]
  },
  {
   "cell_type": "code",
   "execution_count": 5,
   "metadata": {},
   "outputs": [
    {
     "data": {
      "text/plain": [
       "array([[0., 0., 0., ..., 0., 0., 0.],\n",
       "       [0., 0., 0., ..., 0., 0., 0.],\n",
       "       [0., 0., 0., ..., 0., 0., 0.],\n",
       "       ...,\n",
       "       [0., 0., 0., ..., 0., 0., 0.],\n",
       "       [0., 0., 0., ..., 0., 0., 0.],\n",
       "       [0., 0., 0., ..., 0., 0., 0.]], dtype=float32)"
      ]
     },
     "execution_count": 5,
     "metadata": {},
     "output_type": "execute_result"
    }
   ],
   "source": [
    "mnist.train.images"
   ]
  },
  {
   "cell_type": "code",
   "execution_count": 6,
   "metadata": {},
   "outputs": [
    {
     "data": {
      "text/plain": [
       "array([[0., 0., 0., ..., 1., 0., 0.],\n",
       "       [0., 0., 0., ..., 0., 0., 0.],\n",
       "       [0., 0., 0., ..., 0., 0., 0.],\n",
       "       ...,\n",
       "       [0., 0., 0., ..., 0., 0., 0.],\n",
       "       [0., 0., 0., ..., 0., 0., 0.],\n",
       "       [0., 0., 0., ..., 0., 1., 0.]])"
      ]
     },
     "execution_count": 6,
     "metadata": {},
     "output_type": "execute_result"
    }
   ],
   "source": [
    "mnist.train.labels"
   ]
  },
  {
   "cell_type": "markdown",
   "metadata": {},
   "source": [
    "## Plotting first image in our dataset"
   ]
  },
  {
   "cell_type": "code",
   "execution_count": 7,
   "metadata": {},
   "outputs": [
    {
     "data": {
      "text/plain": [
       "<matplotlib.image.AxesImage at 0x1e324826ec8>"
      ]
     },
     "execution_count": 7,
     "metadata": {},
     "output_type": "execute_result"
    },
    {
     "data": {
      "image/png": "[encoded data removed]",
      "text/plain": [
       "<Figure size 432x288 with 1 Axes>"
      ]
     },
     "metadata": {
      "needs_background": "light"
     },
     "output_type": "display_data"
    }
   ],
   "source": [
    "import matplotlib.pyplot as plt\n",
    "#plotting the first image in dataset to get a idea how our dataset looks like\n",
    "first_image = mnist.train.images[0]\n",
    "first_image=first_image.reshape(28,28)\n",
    "plt.imshow(first_image)"
   ]
  },
  {
   "cell_type": "markdown",
   "metadata": {},
   "source": [
    "# Architecture of our model"
   ]
  },
  {
   "cell_type": "markdown",
   "metadata": {},
   "source": [
    "\n",
    "    Convolution Layer(32 units), Filter shape:(5,5,1), Stride=1, Padding='SAME'\n",
    "    Max pooling Layer, Window shape:(2,2), Stride=1, Padding='SAME'\n",
    "    Convolution Layer(64 units), Filter shape:(5,5,32), Stride=1, Padding='SAME'\n",
    "    Max pooling Layer, Window shape:(2,2), Stride=1, Padding='SAME'\n",
    "    Dense Layer (1024 units)\n",
    "    Output Layer (10 units)\n"
   ]
  },
  {
   "cell_type": "markdown",
   "metadata": {},
   "source": [
    "# Initializing our constants"
   ]
  },
  {
   "cell_type": "code",
   "execution_count": 8,
   "metadata": {},
   "outputs": [],
   "source": [
    "#input \n",
    "input_pixels = 784\n",
    "input_width = 28\n",
    "input_height = 28\n",
    "input_channels = 1\n",
    "\n",
    "#1st convolution layer\n",
    "n_conv1 = 32\n",
    "stride_conv1 = 1\n",
    "padding_conv1=\"SAME\"\n",
    "filter_conv1_k = 5\n",
    "\n",
    "#Pooling Layer1\n",
    "max_pool1_k = 2\n",
    "padding_pool1=\"SAME\"\n",
    "\n",
    "\n",
    "#2nd convolution layer\n",
    "n_conv2 = 64\n",
    "stride_conv2 = 1\n",
    "padding_conv2=\"SAME\"\n",
    "filter_conv2_k = 5\n",
    "\n",
    "#Pooling Layer2\n",
    "max_pool2_k = 2\n",
    "padding_pool2=\"SAME\"\n",
    "\n",
    "#dense layer\n",
    "n_hidden = 1024\n",
    "\n",
    "#output layer\n",
    "n_out = 10"
   ]
  },
  {
   "cell_type": "markdown",
   "metadata": {},
   "source": [
    "#### before we proceed we need to find the shape of input coming to hidden layer"
   ]
  },
  {
   "cell_type": "code",
   "execution_count": 9,
   "metadata": {},
   "outputs": [],
   "source": [
    "hidden_width=input_width//(max_pool1_k*max_pool2_k)\n",
    "hidden_height=input_height//(max_pool1_k*max_pool2_k)\n",
    "hidden_channels=n_conv2\n",
    "\n",
    "input_hidden =hidden_width*hidden_height*hidden_channels"
   ]
  },
  {
   "cell_type": "markdown",
   "metadata": {},
   "source": [
    "# Initializing our weights and bias with random values"
   ]
  },
  {
   "cell_type": "code",
   "execution_count": 10,
   "metadata": {},
   "outputs": [],
   "source": [
    "weights = {\n",
    "    \"weights_CL1\" : tf.Variable(tf.random_normal([filter_conv1_k,filter_conv1_k, input_channels, n_conv1])),\n",
    "    \"weights_CL2\" : tf.Variable(tf.random_normal([filter_conv2_k, filter_conv2_k, n_conv1, n_conv2])),\n",
    "    \"weights_hidden_layer\" : tf.Variable(tf.random_normal([input_hidden, n_hidden])),\n",
    "    \"weights_output\" : tf.Variable(tf.random_normal([n_hidden, n_out]))\n",
    "}\n",
    "\n",
    "biases = {\n",
    "    \"bias_CL1\" : tf.Variable(tf.random_normal([n_conv1])),\n",
    "    \"bias_CL2\" : tf.Variable(tf.random_normal([n_conv2])),\n",
    "    \"bias_hidden_layer\" : tf.Variable(tf.random_normal([n_hidden])),\n",
    "    \"bias_output\" : tf.Variable(tf.random_normal([n_out])),\n",
    "}"
   ]
  },
  {
   "cell_type": "markdown",
   "metadata": {},
   "source": [
    "    no weights are required for pooling layer\n",
    "    number of wts for 1st covolutional layer is: filter(5x5) X input_channels x no of    units in layer\n",
    "    similarly for 2nd convolutional layer\n"
   ]
  },
  {
   "cell_type": "markdown",
   "metadata": {},
   "source": [
    "##  Functions for creating Convolution Layer and Pooling Layer"
   ]
  },
  {
   "cell_type": "code",
   "execution_count": 11,
   "metadata": {},
   "outputs": [],
   "source": [
    "def conv(x, weights, bias, strides = 1,padding=\"VALID\"):\n",
    "    #creating a convolution layer\n",
    "    out = tf.nn.conv2d(x, weights, padding=padding, strides = [1, strides, strides, 1])\n",
    "    #adding bias\n",
    "    out = tf.nn.bias_add(out, bias)\n",
    "    #applying activation function,you can change activation func from relu to a different one if you want\n",
    "    out = tf.nn.relu(out)\n",
    "    return out\n",
    "\n",
    "\n",
    "\n",
    "def maxpooling(x, k = 2,padding=\"VALID\"):\n",
    "    return tf.nn.max_pool(x, padding = padding, ksize = [1, k, k, 1], strides = [1, k, k, 1])"
   ]
  },
  {
   "cell_type": "markdown",
   "metadata": {},
   "source": [
    "# CNN function"
   ]
  },
  {
   "cell_type": "code",
   "execution_count": 12,
   "metadata": {},
   "outputs": [],
   "source": [
    "def cnn(x, weights, biases):\n",
    "    \n",
    "    #reshaping x into format of \n",
    "    x = tf.reshape(x, shape = [-1 ,input_height, input_width, input_channels])\n",
    "    \n",
    "    conv1 = conv(x, weights['weights_CL1'], biases['bias_CL1'], stride_conv1,padding_conv1)\n",
    "    pool1 = maxpooling(conv1, max_pool1_k,padding_pool1)\n",
    "    \n",
    "    \n",
    "    conv2 = conv(pool1, weights['weights_CL2'], biases['bias_CL2'],stride_conv2,padding_conv2)\n",
    "    pool2 = maxpooling(conv2, max_pool2_k,padding_pool2)\n",
    "    \n",
    "    \n",
    "    hidden_input = tf.reshape(pool2, shape = [-1, input_hidden])\n",
    "    a=tf.add(tf.matmul(hidden_input, weights['weights_hidden_layer']), biases['bias_hidden_layer'])\n",
    "    hidden_output = tf.nn.relu(a)\n",
    "    \n",
    "    \n",
    "    #for output layer we're applying activation function\n",
    "    output = tf.add(tf.matmul(hidden_output, weights['weights_output']), biases['bias_output'])\n",
    "\n",
    "    return output"
   ]
  },
  {
   "cell_type": "markdown",
   "metadata": {},
   "source": [
    "# Creating placeholders for x, y and prediction"
   ]
  },
  {
   "cell_type": "code",
   "execution_count": 13,
   "metadata": {},
   "outputs": [],
   "source": [
    "x = tf.placeholder(\"float\", [None, input_pixels])\n",
    "y = tf.placeholder(tf.int32, [None, n_out])\n",
    "pred = cnn(x, weights, biases)"
   ]
  },
  {
   "cell_type": "markdown",
   "metadata": {},
   "source": [
    "# Creating our Cost function and Optimizer"
   ]
  },
  {
   "cell_type": "code",
   "execution_count": 14,
   "metadata": {},
   "outputs": [],
   "source": [
    "cost = tf.reduce_mean(tf.nn.softmax_cross_entropy_with_logits_v2(logits=pred, labels = y))\n",
    "\n",
    "optimizer = tf.train.AdamOptimizer(learning_rate=0.01)\n",
    "optimize = optimizer.minimize(cost)"
   ]
  },
  {
   "cell_type": "markdown",
   "metadata": {},
   "source": [
    "# Calling session to start running our code"
   ]
  },
  {
   "cell_type": "code",
   "execution_count": 15,
   "metadata": {},
   "outputs": [],
   "source": [
    "sess = tf.Session()\n",
    "sess.run(tf.global_variables_initializer())"
   ]
  },
  {
   "cell_type": "code",
   "execution_count": 16,
   "metadata": {},
   "outputs": [
    {
     "name": "stdout",
     "output_type": "stream",
     "text": [
      "Epoch 1 cost is : 348.6542\n",
      "Epoch 2 cost is : 126.46548\n",
      "Epoch 3 cost is : 122.805244\n",
      "Epoch 4 cost is : 41.34507\n",
      "Epoch 5 cost is : 27.618818\n",
      "Epoch 6 cost is : 19.282413\n",
      "Epoch 7 cost is : 9.250713\n",
      "Epoch 8 cost is : 7.128848\n"
     ]
    }
   ],
   "source": [
    "batch_size = 1000\n",
    "for i in range(8):\n",
    "    num_batches = int(mnist.train.num_examples/batch_size)\n",
    "    for j in range(num_batches):\n",
    "        batch_x, batch_y = mnist.train.next_batch(batch_size)\n",
    "        c, _ = sess.run([cost,optimize], feed_dict={x:batch_x , y:batch_y})\n",
    "    \n",
    "    print(\"Epoch \"+str(i+1)+\" cost is :\",c)"
   ]
  },
  {
   "cell_type": "markdown",
   "metadata": {},
   "source": [
    "# Accuracy"
   ]
  },
  {
   "cell_type": "code",
   "execution_count": 17,
   "metadata": {},
   "outputs": [
    {
     "name": "stdout",
     "output_type": "stream",
     "text": [
      "Accuracy is : 96.73\n"
     ]
    }
   ],
   "source": [
    "predictions = tf.argmax(pred, 1)\n",
    "correct_labels = tf.argmax(y, 1)\n",
    "correct_predictions = tf.equal(predictions, correct_labels)\n",
    "predictions,correct_preds  = sess.run([predictions, correct_predictions], feed_dict={x:mnist.test.images,\n",
    "                                              y:mnist.test.labels})\n",
    "\n",
    "print(\"Accuracy is :\", (correct_preds.sum()/mnist.test.images.shape[0])*100)"
   ]
  },
  {
   "cell_type": "code",
   "execution_count": null,
   "metadata": {},
   "outputs": [],
   "source": []
  }
 ],
 "metadata": {
  "kernelspec": {
   "display_name": "Python 3",
   "language": "python",
   "name": "python3"
  },
  "language_info": {
   "codemirror_mode": {
    "name": "ipython",
    "version": 3
   },
   "file_extension": ".py",
   "mimetype": "text/x-python",
   "name": "python",
   "nbconvert_exporter": "python",
   "pygments_lexer": "ipython3",
   "version": "3.7.6"
  }
 },
 "nbformat": 4,
 "nbformat_minor": 2
}
